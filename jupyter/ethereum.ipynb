{
 "cells": [
  {
   "cell_type": "code",
   "execution_count": 45,
   "metadata": {},
   "outputs": [
    {
     "data": {
      "text/plain": [
       "'00bec4257ac702194c37219bb134fd51514ba8d1a8adc996252f03e13c9f2e08'"
      ]
     },
     "execution_count": 45,
     "metadata": {},
     "output_type": "execute_result"
    }
   ],
   "source": [
    "from web3 import Web3, HTTPProvider\n",
    "from Savoir import Savoir\n",
    "from ethereum import transactions, utils\n",
    "import rlp\n",
    "\n",
    "w3 = Web3(HTTPProvider('https://mainnet.infura.io/RGwvjqeXLZB2DK0RuYUE')) \n",
    "privkey = 'f38b40a57417787146f6c912f7e32bcb9f9fa95d59f9147b826ad76808d56b60'\n",
    "account = w3.toChecksumAddress(utils.privtoaddr(privkey))\n",
    "\n",
    "rpcuser = 'rpcuser'\n",
    "rpcpasswd = 'trialchain1'\n",
    "rpchost = 'multichain-master'\n",
    "rpcport = '8571'\n",
    "chainname = 'trialchain'\n",
    "api = Savoir(rpcuser, rpcpasswd, rpchost, rpcport, chainname)\n",
    "mc_hash = api.getblockchaininfo().get('bestblockhash')\n",
    "mc_hash"
   ]
  },
  {
   "cell_type": "code",
   "execution_count": 46,
   "metadata": {},
   "outputs": [],
   "source": [
    "nonce = w3.eth.getTransactionCount(account)\n",
    "gasPrice = w3.eth.gasPrice\n",
    "data = mc_hash\n",
    "startgas = round(w3.eth.estimateGas({'data': data}))\n",
    "to = account\n",
    "value = 0\n",
    "tx = transactions.Transaction(nonce, gasPrice, startgas, to, value, data)\n",
    "tx.sign(privkey)\n",
    "rlp_tx = rlp.encode(tx)\n",
    "hex_tx = w3.toHex(rlp_tx)"
   ]
  },
  {
   "cell_type": "code",
   "execution_count": 36,
   "metadata": {},
   "outputs": [
    {
     "data": {
      "text/plain": [
       "{'data': '0x30306265633432353761633730323139346333373231396262313334666435313531346261386431613861646339393632353266303365313363396632653038',\n",
       " 'gasprice': 4000000000,\n",
       " 'hash': '0x69ffecfdbe9cc97d3320fdad141e405f62ff3c70c1c34ab4c6850359bea8d3bc',\n",
       " 'nonce': 19,\n",
       " 'r': 34900315633627902016108765003948373282876380881242454366680666375893105633847,\n",
       " 's': 50136248376204436840096019754387051939903044657534150903806182791503427117336,\n",
       " 'sender': '0x92b9fe281840d8298478ce24900583fa49642ed1',\n",
       " 'startgas': 55112,\n",
       " 'to': '0x92b9fe281840d8298478ce24900583fa49642ed1',\n",
       " 'v': 28,\n",
       " 'value': 0}"
      ]
     },
     "execution_count": 36,
     "metadata": {},
     "output_type": "execute_result"
    }
   ],
   "source": [
    "tx.to_dict()"
   ]
  },
  {
   "cell_type": "code",
   "execution_count": 37,
   "metadata": {},
   "outputs": [
    {
     "name": "stdout",
     "output_type": "stream",
     "text": [
      "Balance : $1.10\n",
      "Cost : $0.15\n"
     ]
    }
   ],
   "source": [
    "print('Balance : $'+str(round(w3.fromWei(w3.eth.getBalance('0x92B9FE281840D8298478Ce24900583FA49642Ed1'), 'ether')*700,2)))\n",
    "print('Cost : $'+str(round(w3.fromWei(startgas*gasPrice, 'ether')*700,2)))"
   ]
  },
  {
   "cell_type": "code",
   "execution_count": 38,
   "metadata": {},
   "outputs": [],
   "source": [
    "response = w3.eth.sendRawTransaction(hex_tx)"
   ]
  },
  {
   "cell_type": "code",
   "execution_count": 60,
   "metadata": {},
   "outputs": [
    {
     "name": "stdout",
     "output_type": "stream",
     "text": [
      "69ffecfdbe9cc97d3320fdad141e405f62ff3c70c1c34ab4c6850359bea8d3bc\n"
     ]
    }
   ],
   "source": [
    "import binascii\n",
    "print(binascii.hexlify(response).decode('utf8'))"
   ]
  },
  {
   "cell_type": "code",
   "execution_count": null,
   "metadata": {},
   "outputs": [],
   "source": []
  }
 ],
 "metadata": {
  "kernelspec": {
   "display_name": "Python 3",
   "language": "python",
   "name": "python3"
  },
  "language_info": {
   "codemirror_mode": {
    "name": "ipython",
    "version": 3
   },
   "file_extension": ".py",
   "mimetype": "text/x-python",
   "name": "python",
   "nbconvert_exporter": "python",
   "pygments_lexer": "ipython3",
   "version": "3.6.3"
  }
 },
 "nbformat": 4,
 "nbformat_minor": 2
}
