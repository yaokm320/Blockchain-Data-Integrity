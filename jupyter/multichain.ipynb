{
 "cells": [
  {
   "cell_type": "code",
   "execution_count": 51,
   "metadata": {},
   "outputs": [],
   "source": [
    "from Savoir import Savoir"
   ]
  },
  {
   "cell_type": "code",
   "execution_count": 52,
   "metadata": {},
   "outputs": [],
   "source": [
    "rpcuser = 'rpcuser'\n",
    "rpcpasswd = 'trialchain1'\n",
    "rpchost = 'multichain-master'\n",
    "rpcport = '8571'\n",
    "chainname = 'trialchain'"
   ]
  },
  {
   "cell_type": "code",
   "execution_count": 53,
   "metadata": {},
   "outputs": [
    {
     "data": {
      "text/plain": [
       "{'balance': 0.0,\n",
       " 'blocks': 59,\n",
       " 'burnaddress': '1XXXXXXX3xXXXXXXWqXXXXXXWcXXXXXXUi5tF5',\n",
       " 'chainname': 'trialchain',\n",
       " 'connections': 0,\n",
       " 'description': 'MultiChain trialchain',\n",
       " 'difficulty': 6e-08,\n",
       " 'errors': '',\n",
       " 'incomingpaused': False,\n",
       " 'keypoololdest': 1518454695,\n",
       " 'keypoolsize': 2,\n",
       " 'miningpaused': False,\n",
       " 'nodeaddress': 'trialchain@10.5.0.2:8570',\n",
       " 'nodeversion': 10002901,\n",
       " 'paytxfee': 0.0,\n",
       " 'port': 8570,\n",
       " 'protocol': 'multichain',\n",
       " 'protocolversion': 10009,\n",
       " 'proxy': '',\n",
       " 'reindex': False,\n",
       " 'relayfee': 0.0,\n",
       " 'setupblocks': 60,\n",
       " 'testnet': False,\n",
       " 'timeoffset': 0,\n",
       " 'version': '1.0.2',\n",
       " 'walletdbversion': 2,\n",
       " 'walletversion': 60000}"
      ]
     },
     "execution_count": 53,
     "metadata": {},
     "output_type": "execute_result"
    }
   ],
   "source": [
    "api = Savoir(rpcuser, rpcpasswd, rpchost, rpcport, chainname)\n",
    "api.getinfo()"
   ]
  },
  {
   "cell_type": "code",
   "execution_count": 41,
   "metadata": {},
   "outputs": [],
   "source": [
    "client_node = input(\"Enter client node hash: \")\n",
    "api.grant(client_node, \"connect,send,receive,issue\")"
   ]
  }
 ],
 "metadata": {
  "kernelspec": {
   "display_name": "Python 3",
   "language": "python",
   "name": "python3"
  },
  "language_info": {
   "codemirror_mode": {
    "name": "ipython",
    "version": 3
   },
   "file_extension": ".py",
   "mimetype": "text/x-python",
   "name": "python",
   "nbconvert_exporter": "python",
   "pygments_lexer": "ipython3",
   "version": "3.6.3"
  }
 },
 "nbformat": 4,
 "nbformat_minor": 2
}
